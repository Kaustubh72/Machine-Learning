{
 "cells": [
  {
   "cell_type": "markdown",
   "metadata": {},
   "source": [
    "# K-Means Clustering Example"
   ]
  },
  {
   "cell_type": "markdown",
   "metadata": {},
   "source": [
    "Let's make some fake data that includes people clustered by income and age, randomly:"
   ]
  },
  {
   "cell_type": "code",
   "execution_count": 42,
   "metadata": {},
   "outputs": [],
   "source": [
    "from numpy import random, array\n",
    "\n",
    "#Create fake income/age clusters for N people in k clusters\n",
    "def createClusteredData(N, k):\n",
    "    random.seed(10)\n",
    "    pointsPerCluster = float(N)/k\n",
    "    X = []\n",
    "    for i in range (k):\n",
    "        incomeCentroid = random.uniform(20000.0, 200000.0)\n",
    "        ageCentroid = random.uniform(20.0, 70.0)\n",
    "        for j in range(int(pointsPerCluster)):\n",
    "            X.append([random.normal(incomeCentroid, 10000.0), random.normal(ageCentroid, 2.0)])\n",
    "    X = array(X)\n",
    "    return X"
   ]
  },
  {
   "cell_type": "markdown",
   "metadata": {},
   "source": [
    "We'll use k-means to rediscover these clusters in unsupervised learning:"
   ]
  },
  {
   "cell_type": "code",
   "execution_count": 84,
   "metadata": {},
   "outputs": [
    {
     "name": "stdout",
     "output_type": "stream",
     "text": [
      "[2 2 2 2 2 2 2 2 2 2 2 2 2 2 2 2 2 2 2 2 1 1 1 1 1 1 1 1 1 1 1 1 1 1 1 1 1\n",
      " 1 1 1 0 0 0 0 0 0 0 0 0 0 0 0 0 0 0 0 0 0 0 0 3 3 3 3 3 3 3 3 3 3 3 3 3 3\n",
      " 3 3 3 3 3 3 0 0 0 0 0 0 0 0 0 0 0 0 0 0 0 0 0 0 0 0]\n"
     ]
    },
    {
     "name": "stderr",
     "output_type": "stream",
     "text": [
      "<ipython-input-84-ccace26af466>:6: DeprecationWarning: `np.float` is a deprecated alias for the builtin `float`. To silence this warning, use `float` by itself. Doing this will not modify any behavior and is safe. If you specifically wanted the numpy scalar type, use `np.float64` here.\n",
      "Deprecated in NumPy 1.20; for more details and guidance: https://numpy.org/devdocs/release/1.20.0-notes.html#deprecations\n",
      "  from numpy import random, float\n"
     ]
    },
    {
     "data": {
      "image/png": "[encoded data removed]",
      "text/plain": [
       "<Figure size 720x576 with 1 Axes>"
      ]
     },
     "metadata": {
      "needs_background": "light"
     },
     "output_type": "display_data"
    }
   ],
   "source": [
    "%matplotlib inline\n",
    "\n",
    "from sklearn.cluster import KMeans\n",
    "import matplotlib.pyplot as plt\n",
    "from sklearn.preprocessing import scale\n",
    "from numpy import random, float\n",
    "\n",
    "data = createClusteredData(100, 5)\n",
    "#print(data)\n",
    "\n",
    "model = KMeans(n_clusters=4)\n",
    "\n",
    "# Note I'm scaling the data to normalize it! Important for good results.\n",
    "model = model.fit(scale(data))\n",
    "\n",
    "# We can look at the clusters each data point was assigned to\n",
    "print(model.labels_)\n",
    "\n",
    "# And we'll visualize it:\n",
    "plt.figure(figsize=(10, 8))\n",
    "plt.scatter(data[:,0], data[:,1], c=model.labels_.astype(float))\n",
    "plt.show()"
   ]
  },
  {
   "cell_type": "markdown",
   "metadata": {},
   "source": [
    "## Activity"
   ]
  },
  {
   "cell_type": "markdown",
   "metadata": {},
   "source": [
    "Things to play with: what happens if you don't scale the data? What happens if you choose different values of K? In the real world, you won't know the \"right\" value of K to start with - you'll need to converge on it yourself."
   ]
  },
  {
   "cell_type": "code",
   "execution_count": 74,
   "metadata": {},
   "outputs": [
    {
     "data": {
      "text/plain": [
       "array([[ 1.74252979, -1.28173018],\n",
       "       [ 1.09846556, -1.3608634 ],\n",
       "       [ 1.58352768, -1.43868866],\n",
       "       [ 1.50387012, -1.34807673],\n",
       "       [ 1.44539138, -1.37903932],\n",
       "       [ 1.54137122, -1.22839333],\n",
       "       [ 1.2283837 , -1.24750386],\n",
       "       [ 1.49561356, -1.31127039],\n",
       "       [ 1.18998222, -1.34516927],\n",
       "       [ 1.77677046, -1.47802432],\n",
       "       [ 1.00168131, -1.55058605],\n",
       "       [ 1.50399517, -1.09914816],\n",
       "       [ 1.69598877, -1.17704378],\n",
       "       [ 1.46662697, -1.20707437],\n",
       "       [ 1.38370702, -1.29289215],\n",
       "       [ 1.384587  , -1.42001408],\n",
       "       [ 1.47413976, -1.4120132 ],\n",
       "       [ 1.73735544, -1.33862173],\n",
       "       [ 1.53402473, -1.39686704],\n",
       "       [ 1.72571414, -1.43998818],\n",
       "       [-0.68139273,  0.94629527],\n",
       "       [-0.65120592,  0.97654607],\n",
       "       [-0.54700653,  1.03394085],\n",
       "       [-0.34456461,  0.98368422],\n",
       "       [-0.47688337,  1.03141749],\n",
       "       [-0.59194546,  1.07724274],\n",
       "       [-0.28253714,  1.02206652],\n",
       "       [ 0.06501265,  1.10012978],\n",
       "       [-0.49621818,  0.96019999],\n",
       "       [-0.5230621 ,  0.94494023],\n",
       "       [-0.21838554,  0.92349857],\n",
       "       [-0.48924464,  0.94192573],\n",
       "       [-0.23687752,  0.8446843 ],\n",
       "       [-0.55223584,  0.98647426],\n",
       "       [-0.39959044,  1.05020494],\n",
       "       [-0.51939238,  1.10796079],\n",
       "       [-0.40062082,  1.26964477],\n",
       "       [-0.80874837,  1.06766804],\n",
       "       [-0.70505535,  0.91254174],\n",
       "       [-0.02668781,  1.19060186],\n",
       "       [ 0.23616353, -0.84933904],\n",
       "       [ 0.23997316, -0.57322204],\n",
       "       [ 0.29954337, -0.83432315],\n",
       "       [ 0.49888476, -0.58949316],\n",
       "       [ 0.23704464, -0.69867319],\n",
       "       [ 0.41028932, -0.51582066],\n",
       "       [ 0.14297968, -0.60643778],\n",
       "       [ 0.43604296, -0.82996205],\n",
       "       [ 0.27720373, -0.82481651],\n",
       "       [ 0.04429522, -0.56486651],\n",
       "       [ 0.21858569, -0.65998979],\n",
       "       [ 0.18464353, -0.52348185],\n",
       "       [ 0.4091412 , -0.70232289],\n",
       "       [ 0.31648468, -0.6677175 ],\n",
       "       [ 0.78915543, -0.69708364],\n",
       "       [ 0.1808725 , -0.65438485],\n",
       "       [ 0.15262097, -0.6008044 ],\n",
       "       [ 0.31203164, -0.79322654],\n",
       "       [ 0.1226032 , -0.76062648],\n",
       "       [ 0.5276511 , -0.34664862],\n",
       "       [-1.29415532,  1.2945387 ],\n",
       "       [-1.37490799,  1.27491864],\n",
       "       [-1.23293102,  1.32971214],\n",
       "       [-1.65529386,  1.13316027],\n",
       "       [-1.74708317,  1.29099544],\n",
       "       [-1.87824126,  1.23242448],\n",
       "       [-1.30385011,  1.25988282],\n",
       "       [-1.15935264,  1.41492672],\n",
       "       [-1.66820717,  1.10803586],\n",
       "       [-1.61457115,  1.20410322],\n",
       "       [-1.51924956,  1.43321483],\n",
       "       [-1.8552429 ,  1.21417   ],\n",
       "       [-1.52941385,  1.38078818],\n",
       "       [-1.48948382,  1.30198162],\n",
       "       [-1.30281515,  1.31064415],\n",
       "       [-1.65687382,  1.26294196],\n",
       "       [-1.76210667,  1.3164561 ],\n",
       "       [-1.39282091,  0.93085601],\n",
       "       [-1.33111215,  1.25049718],\n",
       "       [-1.50063824,  1.32910901],\n",
       "       [ 0.10204933, -0.36351109],\n",
       "       [ 0.23799831, -0.33327764],\n",
       "       [-0.20643357, -0.21001645],\n",
       "       [ 0.42290326, -0.21525926],\n",
       "       [ 0.01704717, -0.30549698],\n",
       "       [ 0.29939519, -0.21101136],\n",
       "       [ 0.40202352, -0.30916752],\n",
       "       [-0.14146927, -0.35121523],\n",
       "       [ 0.29613943, -0.19561744],\n",
       "       [ 0.6747365 , -0.26415785],\n",
       "       [ 0.23138117, -0.29635955],\n",
       "       [ 0.08579019, -0.19148389],\n",
       "       [ 0.2557521 , -0.29963796],\n",
       "       [-0.0650894 , -0.29042955],\n",
       "       [ 0.08909164, -0.1397173 ],\n",
       "       [ 0.38865077, -0.3887624 ],\n",
       "       [ 0.43791112, -0.33951796],\n",
       "       [ 0.20642507, -0.14545056],\n",
       "       [-0.05278913, -0.25943195],\n",
       "       [-0.07645693, -0.48925473]])"
      ]
     },
     "execution_count": 74,
     "metadata": {},
     "output_type": "execute_result"
    }
   ],
   "source": [
    "data = createClusteredData(100, 5)\n",
    "scale(data)\n"
   ]
  }
 ],
 "metadata": {
  "kernelspec": {
   "display_name": "Python 3",
   "language": "python",
   "name": "python3"
  },
  "language_info": {
   "codemirror_mode": {
    "name": "ipython",
    "version": 3
   },
   "file_extension": ".py",
   "mimetype": "text/x-python",
   "name": "python",
   "nbconvert_exporter": "python",
   "pygments_lexer": "ipython3",
   "version": "3.8.8"
  }
 },
 "nbformat": 4,
 "nbformat_minor": 1
}
